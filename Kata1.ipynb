{
 "cells": [
  {
   "cell_type": "markdown",
   "metadata": {},
   "source": [
    "# MODULO 1 KATAS\n",
    "Programa que muestra la fecha de hoy"
   ]
  },
  {
   "cell_type": "code",
   "execution_count": 20,
   "metadata": {},
   "outputs": [
    {
     "name": "stdout",
     "output_type": "stream",
     "text": [
      "Todays date is: 2022-02-06\n",
      "Today's date is:2022-02-06\n"
     ]
    }
   ],
   "source": [
    "from datetime import date \n",
    "print (f'Todays date is: {date.today()}')\n",
    "print(\"Today's date is:\" + str(date.today()))"
   ]
  },
  {
   "cell_type": "markdown",
   "metadata": {},
   "source": [
    "## Conversor de unidades (Persec-> Años luz)"
   ]
  },
  {
   "cell_type": "code",
   "execution_count": 21,
   "metadata": {},
   "outputs": [
    {
     "name": "stdout",
     "output_type": "stream",
     "text": [
      "11 PERSEC are 35.877159999999996 Lightyears\n",
      "11 Persec are: 35.877159999999996 Lightyears\n"
     ]
    }
   ],
   "source": [
    "persec=11\n",
    "Lightyear=persec*3.26156\n",
    "print(f'{persec} PERSEC are {Lightyear} Lightyears')\n",
    "print(str(persec) + \" Persec are: \"+ str(Lightyear)+ \" Lightyears\")"
   ]
  }
 ],
 "metadata": {
  "interpreter": {
   "hash": "11a4a60b518bf24989d481468076e5d5982884626aed9faeb35b8576fcd223e1"
  },
  "kernelspec": {
   "display_name": "Python 3.10.2 64-bit",
   "language": "python",
   "name": "python3"
  },
  "language_info": {
   "codemirror_mode": {
    "name": "ipython",
    "version": 3
   },
   "file_extension": ".py",
   "mimetype": "text/x-python",
   "name": "python",
   "nbconvert_exporter": "python",
   "pygments_lexer": "ipython3",
   "version": "3.10.2"
  },
  "orig_nbformat": 4
 },
 "nbformat": 4,
 "nbformat_minor": 2
}
