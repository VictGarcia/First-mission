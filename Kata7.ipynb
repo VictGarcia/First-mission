{
 "cells": [
  {
   "cell_type": "markdown",
   "metadata": {},
   "source": [
    "# Ciclos While"
   ]
  },
  {
   "cell_type": "code",
   "execution_count": 12,
   "metadata": {},
   "outputs": [
    {
     "name": "stdout",
     "output_type": "stream",
     "text": [
      "Los planetas son: ['Tierra', 'Marte', 'Saturno', 'Done']\n"
     ]
    }
   ],
   "source": [
    "nuevoPlaneta=''\n",
    "Planetas=[]\n",
    "i=1\n",
    "while nuevoPlaneta!='done':\n",
    "    if nuevoPlaneta:\n",
    "        Planetas.append(nuevoPlaneta)\n",
    "    nuevoPlaneta=input(f'Ingresa el planeta {i}')\n",
    "    i=i+1\n",
    "#print(f'Los planetas son: {Planetas}')\n"
   ]
  },
  {
   "cell_type": "markdown",
   "metadata": {},
   "source": [
    "# Ciclo For"
   ]
  },
  {
   "cell_type": "code",
   "execution_count": 13,
   "metadata": {},
   "outputs": [
    {
     "name": "stdout",
     "output_type": "stream",
     "text": [
      "Tierra\n",
      "Marte\n",
      "Venus\n",
      "Saturno\n",
      "Jupiter\n",
      "Mercurio \n"
     ]
    }
   ],
   "source": [
    "nuevoPlaneta=''\n",
    "Planetas=[]\n",
    "i=1\n",
    "while nuevoPlaneta!='done':\n",
    "    if nuevoPlaneta:\n",
    "        Planetas.append(nuevoPlaneta)\n",
    "    nuevoPlaneta=input(f'Ingresa el planeta {i}')\n",
    "    i=i+1\n",
    "for planeta in Planetas:\n",
    "    print(planeta)"
   ]
  }
 ],
 "metadata": {
  "interpreter": {
   "hash": "6d2a624424347221511a8fb8051ba89234e93c7b07affa6beca04a8ab551c26e"
  },
  "kernelspec": {
   "display_name": "Python 3.10.2 64-bit",
   "language": "python",
   "name": "python3"
  },
  "language_info": {
   "codemirror_mode": {
    "name": "ipython",
    "version": 3
   },
   "file_extension": ".py",
   "mimetype": "text/x-python",
   "name": "python",
   "nbconvert_exporter": "python",
   "pygments_lexer": "ipython3",
   "version": "3.10.2"
  },
  "orig_nbformat": 4
 },
 "nbformat": 4,
 "nbformat_minor": 2
}
