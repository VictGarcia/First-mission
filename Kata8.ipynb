{
 "cells": [
  {
   "cell_type": "markdown",
   "metadata": {},
   "source": [
    "# DICCIONARIOS"
   ]
  },
  {
   "cell_type": "code",
   "execution_count": 11,
   "metadata": {},
   "outputs": [
    {
     "name": "stdout",
     "output_type": "stream",
     "text": [
      "Planet name: Mars \n",
      " Moons number: 42\n",
      "\n",
      " Planet Name: Mars\n",
      " Polar: 6752 [Km]\n"
     ]
    }
   ],
   "source": [
    "planets={\n",
    "    'name':'Mars',\n",
    "    'moons':42\n",
    "    }\n",
    "print(f'''Planet name: {planets.get('name')} \\n Moons number: {planets.get('moons')}''')\n",
    "planets['polar']=6752\n",
    "planets['equatorial']=6792\n",
    "print(f'''\\n Planet Name: {planets['name']}\\n Polar: {planets['polar']} [Km]''')"
   ]
  },
  {
   "cell_type": "markdown",
   "metadata": {},
   "source": [
    "# Programacion dinamica con diccionarios"
   ]
  },
  {
   "cell_type": "code",
   "execution_count": 18,
   "metadata": {},
   "outputs": [
    {
     "name": "stdout",
     "output_type": "stream",
     "text": [
      "Numero de planetas: 12 \n",
      " Numero de lunas 214 \n",
      " Total: 17.833333333333332\n"
     ]
    }
   ],
   "source": [
    "planets_moons={\n",
    "    'mercury':0,\n",
    "    'venus':0,\n",
    "    'earth':1,\n",
    "    'mars':2,\n",
    "    'jupiter':79,\n",
    "    'saturn':82,\n",
    "    'uranus':27,\n",
    "    'neptune':14,\n",
    "    'pluton':5,\n",
    "    'haumea':2,\n",
    "    'makemake':1,\n",
    "    'eris':1\n",
    "}\n",
    "planet_number=0\n",
    "planet_moon=0\n",
    "\n",
    "for planets in planets_moons.keys():\n",
    "    if planets:\n",
    "        planet_number=planet_number+1\n",
    "for moon in planets_moons.values():\n",
    "    planet_moon=planet_moon+moon   \n",
    "promedio=planet_moon/planet_number \n",
    "print(f'Numero de planetas: {planet_number} \\n Numero de lunas {planet_moon} \\n Promedio: {promedio}')   \n",
    "    \n",
    "    "
   ]
  }
 ],
 "metadata": {
  "interpreter": {
   "hash": "6d2a624424347221511a8fb8051ba89234e93c7b07affa6beca04a8ab551c26e"
  },
  "kernelspec": {
   "display_name": "Python 3.10.2 64-bit",
   "language": "python",
   "name": "python3"
  },
  "language_info": {
   "codemirror_mode": {
    "name": "ipython",
    "version": 3
   },
   "file_extension": ".py",
   "mimetype": "text/x-python",
   "name": "python",
   "nbconvert_exporter": "python",
   "pygments_lexer": "ipython3",
   "version": "3.10.2"
  },
  "orig_nbformat": 4
 },
 "nbformat": 4,
 "nbformat_minor": 2
}
