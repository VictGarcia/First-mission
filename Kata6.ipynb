{
 "cells": [
  {
   "cell_type": "markdown",
   "metadata": {},
   "source": [
    "# Lista "
   ]
  },
  {
   "cell_type": "code",
   "execution_count": 2,
   "metadata": {},
   "outputs": [
    {
     "name": "stdout",
     "output_type": "stream",
     "text": [
      "Los planetas en el sistema solar son: ['Mercurio', 'Venus', 'Tierra', 'Marte', 'Jupiter', 'Saturno', 'Urano', 'Neptuno']\n",
      "Los planetas en el sistema solar son: pluton\n"
     ]
    }
   ],
   "source": [
    "planetas=['Mercurio','Venus','Tierra','Marte','Jupiter','Saturno','Urano','Neptuno']\n",
    "print(f'Los planetas en el sistema solar son: {planetas}')\n",
    "planetas.append('pluton')\n",
    "print(f'Nuevo planeta:  {planetas[-1]}')\n"
   ]
  },
  {
   "cell_type": "markdown",
   "metadata": {},
   "source": [
    "# Trabajando con valores de una lista "
   ]
  },
  {
   "cell_type": "code",
   "execution_count": 31,
   "metadata": {},
   "outputs": [
    {
     "name": "stdout",
     "output_type": "stream",
     "text": [
      "Los planetas que estan mas cerca del sol que el planeta Neptuno son: \n",
      " ['Mercurio', 'Venus', 'Tierra', 'Marte', 'Jupiter', 'Saturno', 'Urano']\n",
      "Los planetas que estan alejados mas alejados son: \n",
      " [] \n"
     ]
    }
   ],
   "source": [
    "planetas=['Mercurio','Venus','Tierra','Marte','Jupiter','Saturno','Urano','Neptuno']\n",
    "solicitaPlaneta=input(\"Ingresa un planeta\")\n",
    "if solicitaPlaneta in planetas:\n",
    "    x=planetas.index(solicitaPlaneta)\n",
    "    if x==0:\n",
    "        print(f'EL planeta: {solicitaPlaneta} es el mas cercano al sol')\n",
    "    elif x>0:\n",
    "        print(f'Los planetas que estan mas cerca del sol que el planeta {solicitaPlaneta} son: \\n {planetas[:x]}')\n",
    "        print(f'Los planetas que estan alejados mas alejados son: \\n {planetas[x+1:]} ')\n",
    "else:\n",
    "    print(\"Planeta no localizado...\")\n",
    "    "
   ]
  },
  {
   "cell_type": "code",
   "execution_count": null,
   "metadata": {},
   "outputs": [],
   "source": []
  }
 ],
 "metadata": {
  "interpreter": {
   "hash": "6d2a624424347221511a8fb8051ba89234e93c7b07affa6beca04a8ab551c26e"
  },
  "kernelspec": {
   "display_name": "Python 3.10.2 64-bit",
   "language": "python",
   "name": "python3"
  },
  "language_info": {
   "codemirror_mode": {
    "name": "ipython",
    "version": 3
   },
   "file_extension": ".py",
   "mimetype": "text/x-python",
   "name": "python",
   "nbconvert_exporter": "python",
   "pygments_lexer": "ipython3",
   "version": "3.10.2"
  },
  "orig_nbformat": 4
 },
 "nbformat": 4,
 "nbformat_minor": 2
}
