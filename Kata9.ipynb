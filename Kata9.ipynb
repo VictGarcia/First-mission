{
 "cells": [
  {
   "cell_type": "markdown",
   "metadata": {},
   "source": [
    "# Funciones"
   ]
  },
  {
   "cell_type": "code",
   "execution_count": 15,
   "metadata": {},
   "outputs": [
    {
     "name": "stdout",
     "output_type": "stream",
     "text": [
      "El promedio de la capacidad de los tanques es: 1.0\n"
     ]
    }
   ],
   "source": [
    "def promedio(tan1,tan2,tan3):\n",
    "    p=(tan1+tan2+tan3)/3\n",
    "    return p\n",
    "def informeTanques(): \n",
    "    print(f'El promedio de la capacidad de los tanques es: {promedio(tan1,tan2,tan3)}')\n",
    "    \n",
    "tan1=float(input(\"Ingresa la capacidad del tanque 1\"))\n",
    "tan2=float(input(\"Ingresa la capacidad del tanque 2\"))\n",
    "tan3=float(input(\"Ingresa la capacidad del tanque 3\"))\n",
    "promedio(tan1,tan2,tan3)\n",
    "informeTanques()\n"
   ]
  },
  {
   "cell_type": "markdown",
   "metadata": {},
   "source": [
    "# Trabajo con argumentos de palabras claves "
   ]
  },
  {
   "cell_type": "code",
   "execution_count": 31,
   "metadata": {},
   "outputs": [],
   "source": [
    "def informe(hora,min,seg,tvuelo,destino,tanqueExt,tanqueInt):\n",
    "    print(f'''La hora prevista es: {hora}:{min}:{seg} \\nTiempo de vuelo: {tvuelo} Horas\\nDestino: {destino}\n",
    "Capacidad de tanque externo: {tanqueExt}[l] \\nCapacidad de tanque interno: {tanqueInt}[l]''')\n",
    "informe(9, 11, 12, 12, 'Marte', 1100,1200)\n",
    " \n",
    "def informe2(destino,*hora,**tanques):\n",
    "    print(f'''Hora estimada total:{hora} h\\nDestino: {destino}''')\n",
    "    for tanque, capacidad in tanques.items():\n",
    "        print(tanque, capacidad)\n",
    "informe2('Luna',2,14,24,tanque1=1000,tanque2=2000)\n",
    "    \n",
    "        "
   ]
  }
 ],
 "metadata": {
  "interpreter": {
   "hash": "6d2a624424347221511a8fb8051ba89234e93c7b07affa6beca04a8ab551c26e"
  },
  "kernelspec": {
   "display_name": "Python 3.10.2 64-bit",
   "language": "python",
   "name": "python3"
  },
  "language_info": {
   "codemirror_mode": {
    "name": "ipython",
    "version": 3
   },
   "file_extension": ".py",
   "mimetype": "text/x-python",
   "name": "python",
   "nbconvert_exporter": "python",
   "pygments_lexer": "ipython3",
   "version": "3.10.2"
  },
  "orig_nbformat": 4
 },
 "nbformat": 4,
 "nbformat_minor": 2
}
