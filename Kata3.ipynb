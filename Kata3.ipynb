{
 "cells": [
  {
   "cell_type": "markdown",
   "metadata": {},
   "source": [
    "# Exercise IF, ELSE, ELIF"
   ]
  },
  {
   "cell_type": "markdown",
   "metadata": {},
   "source": [
    "## Ejercicio un asteroide con una velocidad mayor a 25 km amerita uns mjs de advertancia "
   ]
  },
  {
   "cell_type": "code",
   "execution_count": 14,
   "metadata": {},
   "outputs": [
    {
     "name": "stdout",
     "output_type": "stream",
     "text": [
      "El asteroide tiene una velocidad de 20.0 [km/s] No presenta amenza\n"
     ]
    }
   ],
   "source": [
    "Vasteroide=float(input(\"Velocidad de asteroide en [m/s]\"))\n",
    "if Vasteroide > 25:\n",
    "    print(f' ¡¡¡ALERTA!!! \\n Un asteroide con {Vasteroide} [km/s] se acerca a la tierra ..')\n",
    "elif Vasteroide>20:\n",
    "    print(f'¡Hay uno que se dirige a la tierra ahora a una velocidad de:  {Vasteroide}  km/s!')\n",
    "else:\n",
    "    print(f'El asteroide tiene una velocidad de {Vasteroide} [km/s] No presenta amenza')\n"
   ]
  },
  {
   "cell_type": "markdown",
   "metadata": {},
   "source": [
    "## Un asteroide con una dimension de:  25<asteroide<1000 amerita una alerta"
   ]
  },
  {
   "cell_type": "code",
   "execution_count": 15,
   "metadata": {},
   "outputs": [
    {
     "name": "stdout",
     "output_type": "stream",
     "text": [
      "¡¡¡ ALERTA !!! \n",
      " Un asteroide de velocidad: 10.0 [km/s] y Dimension: 860.0 [m] \n",
      "   CAUSARA MUCHO DAÑO A LA TIERRA \n"
     ]
    }
   ],
   "source": [
    "V=float(input(\"Velocidad del asteroide: \"))\n",
    "Dimension=float(input(\"Dimensiones del asteroides: \"))\n",
    "if V>25 or Dimension> 25 or Dimension<1000:\n",
    "    print(f'¡¡¡ ALERTA !!! \\n Un asteroide de velocidad: {V} [km/s] y Dimension: {Dimension} [m] \\n   CAUSARA MUCHO DAÑO A LA TIERRA ')\n",
    "elif V>=20:\n",
    "    print(f'Un asteroide con una velocidad de: {V} [km/s] se acerca!! \\n ¡¡BUSCALO EN LA ATMOSFERA!!') \n",
    "else:\n",
    "    print(\"SIN ALERTA\")"
   ]
  }
 ],
 "metadata": {
  "interpreter": {
   "hash": "11a4a60b518bf24989d481468076e5d5982884626aed9faeb35b8576fcd223e1"
  },
  "kernelspec": {
   "display_name": "Python 3.10.2 64-bit",
   "language": "python",
   "name": "python3"
  },
  "language_info": {
   "codemirror_mode": {
    "name": "ipython",
    "version": 3
   },
   "file_extension": ".py",
   "mimetype": "text/x-python",
   "name": "python",
   "nbconvert_exporter": "python",
   "pygments_lexer": "ipython3",
   "version": "3.10.2"
  },
  "orig_nbformat": 4
 },
 "nbformat": 4,
 "nbformat_minor": 2
}
