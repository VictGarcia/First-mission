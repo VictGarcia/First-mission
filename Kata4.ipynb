{
 "cells": [
  {
   "cell_type": "markdown",
   "metadata": {},
   "source": [
    "# KATA 4\n",
    "## Notas de los metodos que se pueden usar en un str\n",
    ".title()   #PAra asignar a una cadena como titulo.    \n",
    ".split()   #Utiliza una cadena y la convierte en una lista, cada caracter/palabra separado por un espacio generará un elemento de la lista.\n",
    ".split(/n) # Crea una lista y tiene un elemento por cada salto de linea. \n",
    ".find()    # BUsca la posicion de una palabra/caracter.\n",
    ".lower()   #convierte una cadena en minusculas.\n",
    ".upper()   #Convierte una cadena en mayusculas.\n",
    ".count()   # Numero total  que una entrada aparece en la cadena.\n",
    "\n"
   ]
  },
  {
   "cell_type": "markdown",
   "metadata": {},
   "source": [
    "# EJERCICIO 1 \"TRANSFORMAR CADENAS \""
   ]
  },
  {
   "cell_type": "code",
   "execution_count": 80,
   "metadata": {},
   "outputs": [
    {
     "name": "stdout",
     "output_type": "stream",
     "text": [
      "['interesting facts about the moon', \" the moon is earth's only satellite\", ' there are several interesting facts about the moon and how it affects life here on earth', ' \\non average, the moon moves 4cm away from the earth every year', ' this yearly drift is not significant enough to cause immediate effects on earth', ' the highest daylight temperature of the moon is 127 c', ''],\n",
      "\n",
      "*****Here Are Some Important Information****\n",
      " the moon is earth's only satellite\n",
      " \n",
      "on average, the moon moves 4cm away from the earth every year\n",
      " the highest daylight temperature of the moon is 127 c\n",
      "\n",
      "\"Cambio de notacion de unidad:\" \n",
      "   the highest daylight temperature of the moon is 127 Celsius,\n",
      "\n",
      "['interesting facts about the moon', \" the moon is earth's only satellite\", ' there are several interesting facts about the moon and how it affects life here on earth', ' \\non average, the moon moves 4cm away from the earth every year', ' this yearly drift is not significant enough to cause immediate effects on earth', ' the highest daylight temperature of the moon is 127 Celsius', '']\n"
     ]
    }
   ],
   "source": [
    "text = \"\"\"Interesting facts about the Moon. The Moon is Earth's only satellite. There are several interesting facts about the Moon and how it affects life here on Earth. \n",
    "On average, the Moon moves 4cm away from the Earth every year. This yearly drift is not significant enough to cause immediate effects on Earth. The highest daylight temperature of the Moon is 127 C.\"\"\"\n",
    "lista=text.lower()          #Paso todo a minusculas\n",
    "lista1=lista.split(\".\")     #Se crea una lista cada elemento se crea a partir de cada punto\n",
    "print(f'{lista1},\\n')       #Imprime la lista en forma de lista \n",
    "msj=\"*****Here are some important information****\"  #Creo un titulo\n",
    "print(msj.title())                          #Muestro el titulo\n",
    "for i in lista1:                            #inicia ciclo que recorre cada oracion \n",
    "    if \"satellite\" in i:                    #Si en una oracion encuentra \"Satellite\" la imprime \n",
    "        print(i)                            \n",
    "    elif \"average\" in i:                    #Si en una oracion encuentra \"average\" la imprime \n",
    "        print(i)\n",
    "    elif \"temperature\" in i:                #Si en una oracion encuentra \"temperature\" la imprime \n",
    "        print(i)\n",
    "        \n",
    "for i in lista1:                            #Ciclo para recorrer cada oracion del texto \n",
    "    if \"temperature\" in i:                  #Se busca la palabra temperature en cada oracion\n",
    "        cambia=i.replace(\"c\",\"Celsius\")     #Cambia el caracter c por la palabra Celsius\n",
    "        print (f'\\n\"Cambio de notacion de unidad:\" \\n  {cambia},\\n') #Impreme cuando cambia de C a Celsius  \n",
    "        for j in lista1:                    #se recorre nuevamente cada oracion del texto original\n",
    "            if j==i:                        #Cuando coincidan las oraciones \n",
    "                posicion=lista1.index(j)    #Se obtiene la posicion de la oracion y la guarda en x\n",
    "                lista1.remove(j)            #Elimina la oracion original \n",
    "                lista1.insert(posicion,cambia) #Agrega en la misma posicion la misma oracion pero con el cambio C-->Celsius\n",
    "print(lista1)                                   #Se muestra el texto original con el cambio.\n",
    "        \n",
    "        "
   ]
  },
  {
   "cell_type": "markdown",
   "metadata": {},
   "source": [
    "# EJERCICIO 2 \"FORMATEANDO CADENAS \""
   ]
  },
  {
   "cell_type": "code",
   "execution_count": 119,
   "metadata": {},
   "outputs": [
    {
     "name": "stdout",
     "output_type": "stream",
     "text": [
      "Gravity of Earthand the Moon\n",
      "   Gravity Facts about Earth  \n",
      "          --------------------------------------------- \n",
      "          Planet name: Earth\n",
      "          Gravity on Moon :1.6199999999999999\n",
      "Gravity of Marte and the Ganímedes\n",
      "   Gravity Facts about Marte   \n",
      "          --------------------------------------------- \n",
      "          Planet name: Marte \n",
      "          Gravity on Ganímedes :1.4300000000000002\n"
     ]
    }
   ],
   "source": [
    "#Se definen la variables con las que se van a trabajar\n",
    "name = \"Moon\"                                \n",
    "gravity = 0.00162 # in kms\n",
    "planet = \"Earth\"\n",
    "#Se crea una funcion\n",
    "def muestra(p,n,g):\n",
    "    nombre=\"Gravity of \"+ p + \"and the \" + n #Titulo que muestra\n",
    "    print(nombre)   \n",
    "    print(\"\"\"   Gravity Facts about {0}  \n",
    "          --------------------------------------------- \n",
    "          Planet name: {0}\n",
    "          Gravity on {1} :{2}\"\"\".format(p, n, g*1000))\n",
    "#llama a la funcion \n",
    "muestra(planet,name,gravity)\n",
    "#Nuevos datos\n",
    "planet = 'Marte '\n",
    "gravity  = 0.00143\n",
    "name = 'Ganímedes'\n",
    "#llama a la funcion con nuevos datos\n",
    "muestra(planet,name,gravity)"
   ]
  }
 ],
 "metadata": {
  "interpreter": {
   "hash": "6d2a624424347221511a8fb8051ba89234e93c7b07affa6beca04a8ab551c26e"
  },
  "kernelspec": {
   "display_name": "Python 3.10.2 64-bit",
   "language": "python",
   "name": "python3"
  },
  "language_info": {
   "codemirror_mode": {
    "name": "ipython",
    "version": 3
   },
   "file_extension": ".py",
   "mimetype": "text/x-python",
   "name": "python",
   "nbconvert_exporter": "python",
   "pygments_lexer": "ipython3",
   "version": "3.10.2"
  },
  "orig_nbformat": 4
 },
 "nbformat": 4,
 "nbformat_minor": 2
}
