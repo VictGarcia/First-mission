{
 "cells": [
  {
   "cell_type": "markdown",
   "metadata": {},
   "source": [
    "# Utilizar operadores aritmeticos "
   ]
  },
  {
   "cell_type": "code",
   "execution_count": 3,
   "metadata": {},
   "outputs": [
    {
     "name": "stdout",
     "output_type": "stream",
     "text": [
      "La ditancia entre los planetas es: 628949330 [km]\n",
      "La ditancia entre los planetas es: 390577533.93 [millas]\n"
     ]
    }
   ],
   "source": [
    "dtierra=149597870\n",
    "dJupiter=778547200\n",
    "Distancia=abs(dtierra-dJupiter)\n",
    "print(f'La ditancia entre los planetas es: {Distancia} [km]')\n",
    "print(f'La ditancia entre los planetas es: {Distancia*0.621} [millas]')\n"
   ]
  },
  {
   "cell_type": "markdown",
   "metadata": {},
   "source": [
    "# Distancia entre el sol y 2 planetas"
   ]
  },
  {
   "cell_type": "code",
   "execution_count": 5,
   "metadata": {},
   "outputs": [
    {
     "name": "stdout",
     "output_type": "stream",
     "text": [
      "Ingresa los valor siguientes: \n",
      "La distancia de los planetas en Km es: 50300000 [Km]\n",
      "LA distancia de los planetas en millas es: 31236300.0 [millas]\n"
     ]
    }
   ],
   "source": [
    "print(\"Ingresa los valor siguientes: \")\n",
    "dPlaneta1=int(input(\"Distancia planeta 1: \"))\n",
    "dPlaneta2=int(input(\"Distancia planeta 2: \"))\n",
    "distancia=abs(dPlaneta1-dPlaneta2)\n",
    "print(f'La distancia de los planetas en Km es: {distancia} [Km]')\n",
    "print(f'LA distancia de los planetas en millas es: {distancia*0.621} [millas]')"
   ]
  },
  {
   "cell_type": "code",
   "execution_count": null,
   "metadata": {},
   "outputs": [],
   "source": []
  }
 ],
 "metadata": {
  "interpreter": {
   "hash": "6d2a624424347221511a8fb8051ba89234e93c7b07affa6beca04a8ab551c26e"
  },
  "kernelspec": {
   "display_name": "Python 3.10.2 64-bit",
   "language": "python",
   "name": "python3"
  },
  "language_info": {
   "codemirror_mode": {
    "name": "ipython",
    "version": 3
   },
   "file_extension": ".py",
   "mimetype": "text/x-python",
   "name": "python",
   "nbconvert_exporter": "python",
   "pygments_lexer": "ipython3",
   "version": "3.10.2"
  },
  "orig_nbformat": 4
 },
 "nbformat": 4,
 "nbformat_minor": 2
}
